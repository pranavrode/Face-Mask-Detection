{
 "cells": [
  {
   "cell_type": "code",
   "execution_count": 1,
   "id": "f28ee74c",
   "metadata": {},
   "outputs": [],
   "source": [
    "import os\n",
    "import cv2\n",
    "import matplotlib.pyplot as plt \n",
    "import tensorflow as tf\n",
    "import keras\n",
    "import numpy as np\n",
    "from keras.models import Sequential\n",
    "from keras.layers import Conv2D, MaxPool2D, Flatten, Dense, Dropout"
   ]
  },
  {
   "cell_type": "code",
   "execution_count": null,
   "id": "eb2a1756",
   "metadata": {},
   "outputs": [],
   "source": [
    "image_size = 200\n",
    "\n",
    "path1 = r\"F:\\Tutorials(Learning)\\PGA 23\\images\\Mask_NoMask\"\n",
    "mask = ['Mask' , 'No_Mask' ]\n",
    "\n",
    "input_image = []\n",
    "for i in mask:\n",
    "    folders = os.path.join(path1, i)\n",
    "    label = mask.index(i)                  # need to tell software which image is of which maskgory\n",
    "    for image in os.listdir(folders):\n",
    "        image_path = os.path.join(folders, image)\n",
    "        image_array = cv2.imread(image_path)    # using cv2, reading image storing variable\n",
    "        image_array = cv2.resize(image_array, (image_size, image_size))    # resizing image to 200 * 200\n",
    "        input_image.append([image_array, label])"
   ]
  },
  {
   "cell_type": "code",
   "execution_count": null,
   "id": "64960b86",
   "metadata": {},
   "outputs": [],
   "source": [
    "len(input_image)"
   ]
  },
  {
   "cell_type": "code",
   "execution_count": null,
   "id": "09c23d4e",
   "metadata": {},
   "outputs": [],
   "source": [
    "input_image = input_image[2500:5500]"
   ]
  },
  {
   "cell_type": "code",
   "execution_count": null,
   "id": "921abbdd",
   "metadata": {},
   "outputs": [],
   "source": [
    "np.random.shuffle(input_image)\n",
    "\n",
    "X  = []\n",
    "Y =  []\n",
    "\n",
    "for X_values , labels in input_image:\n",
    "    X.append(X_values)\n",
    "    Y.append(labels)\n",
    "\n",
    "X = np.array(X)\n",
    "Y = np.array(Y)"
   ]
  },
  {
   "cell_type": "code",
   "execution_count": null,
   "id": "90f65e4a",
   "metadata": {},
   "outputs": [],
   "source": [
    "len(input_image)"
   ]
  },
  {
   "cell_type": "code",
   "execution_count": null,
   "id": "5d1750fd",
   "metadata": {},
   "outputs": [],
   "source": [
    "X_train = X[:2550]\n",
    "X_test = X[2550:]\n",
    "\n",
    "Y_train = Y[:2550]\n",
    "Y_test = Y[2550:]\n",
    "\n",
    "X_train = X_train/255\n",
    "X_test = X_test/255\n",
    "X_train.shape"
   ]
  },
  {
   "cell_type": "code",
   "execution_count": null,
   "id": "c915dbed",
   "metadata": {},
   "outputs": [],
   "source": [
    "X_test.shape"
   ]
  },
  {
   "cell_type": "code",
   "execution_count": null,
   "id": "b2d27de7",
   "metadata": {},
   "outputs": [],
   "source": [
    "model = Sequential()\n",
    "model.add(Conv2D(filters = 16 , kernel_size =(5,5) , activation ='relu' ))\n",
    "model.add(MaxPool2D(pool_size =(2,2)))\n",
    "#model.add(Conv2D(filters = 16 , kernel_size =(5,5) , activation ='relu'  ,   ))\n",
    "#model.add(MaxPool2D(pool_size =(2,2)))\n",
    "model.add(Flatten())\n",
    "#model.add(Dense(128 , activation = 'relu' ))\n",
    "#model.add(Dropout(0.4))\n",
    "model.add(Dense(2 , activation= 'softmax'))"
   ]
  },
  {
   "cell_type": "code",
   "execution_count": null,
   "id": "e18c613b",
   "metadata": {},
   "outputs": [],
   "source": [
    "model.compile(optimizer='adam',loss = 'sparse_categorical_crossentropy', metrics = ['accuracy'])"
   ]
  },
  {
   "cell_type": "code",
   "execution_count": null,
   "id": "2aa6b080",
   "metadata": {
    "scrolled": true
   },
   "outputs": [],
   "source": [
    "model.fit(X_train, Y_train, epochs=20, validation_split=0.15)"
   ]
  },
  {
   "cell_type": "code",
   "execution_count": null,
   "id": "766fa1b0",
   "metadata": {},
   "outputs": [],
   "source": [
    "pred = model.predict(X_test)\n",
    "pred_classes = np.argmax(pred, 1)"
   ]
  },
  {
   "cell_type": "code",
   "execution_count": null,
   "id": "140fc903",
   "metadata": {},
   "outputs": [],
   "source": [
    "from sklearn.metrics import confusion_matrix\n",
    "tab = confusion_matrix(pred_classes, Y_test)\n",
    "tab"
   ]
  },
  {
   "cell_type": "code",
   "execution_count": null,
   "id": "57e272fa",
   "metadata": {},
   "outputs": [],
   "source": [
    "Acc = tab.diagonal().sum()*100/tab.sum()\n",
    "Acc"
   ]
  },
  {
   "cell_type": "markdown",
   "id": "2e04c52c",
   "metadata": {},
   "source": [
    "## Save build model"
   ]
  },
  {
   "cell_type": "code",
   "execution_count": null,
   "id": "2cb473c9",
   "metadata": {},
   "outputs": [],
   "source": [
    "model.save('Mask_NoMask.h5')"
   ]
  },
  {
   "cell_type": "markdown",
   "id": "eebfa31e",
   "metadata": {},
   "source": [
    "## Load model for later use"
   ]
  },
  {
   "cell_type": "code",
   "execution_count": null,
   "id": "99dc5f18",
   "metadata": {},
   "outputs": [],
   "source": [
    "#newName = load_model('MaskNoMask.h5')\n",
    "#newName.predict(input data)"
   ]
  },
  {
   "cell_type": "code",
   "execution_count": null,
   "id": "5c6735e5",
   "metadata": {},
   "outputs": [],
   "source": []
  },
  {
   "cell_type": "code",
   "execution_count": null,
   "id": "0d2418c2",
   "metadata": {},
   "outputs": [],
   "source": []
  }
 ],
 "metadata": {
  "kernelspec": {
   "display_name": "Python 3",
   "language": "python",
   "name": "python3"
  },
  "language_info": {
   "codemirror_mode": {
    "name": "ipython",
    "version": 3
   },
   "file_extension": ".py",
   "mimetype": "text/x-python",
   "name": "python",
   "nbconvert_exporter": "python",
   "pygments_lexer": "ipython3",
   "version": "3.8.8"
  }
 },
 "nbformat": 4,
 "nbformat_minor": 5
}
